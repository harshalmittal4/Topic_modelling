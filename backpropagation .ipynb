{
 "cells": [
  {
   "cell_type": "code",
   "execution_count": 4,
   "metadata": {},
   "outputs": [],
   "source": [
    "import numpy as np\n",
    "def backprop(x,y,z): #take x, y, z as input features\n",
    "    x1=np.power(x,2)\n",
    "    y1=4*y\n",
    "    \n",
    "    dx1dx=2*x # dx1/dx (partial derivative of x1 w.r.t x)\n",
    "    dy1dy=4 \n",
    "    \n",
    "    \n",
    "    f=x1+y1+z #   f=x^2 + 4*y +z\n",
    "        \n",
    "    dfdx1=1\n",
    "    dfdy1=1    \n",
    "    dfdz=1 \n",
    "    \n",
    "    dfdx=(dfdx1)*(dx1dx)\n",
    "    dfdy=(dfdy1)*(dy1dy)\n",
    "    \n",
    "    return (dfdx,dfdy,dfdz)\n",
    "    \n",
    "    "
   ]
  },
  {
   "cell_type": "code",
   "execution_count": 5,
   "metadata": {},
   "outputs": [],
   "source": [
    "(a,b,c)=backprop(2,3,4)"
   ]
  },
  {
   "cell_type": "code",
   "execution_count": 10,
   "metadata": {},
   "outputs": [
    {
     "name": "stdout",
     "output_type": "stream",
     "text": [
      "(4, 4, 1)\n"
     ]
    }
   ],
   "source": [
    "print(a,b,c)\n"
   ]
  },
  {
   "cell_type": "markdown",
   "metadata": {},
   "source": [
    "# General way to calculate partial derivative of any function in python for backpropagation"
   ]
  },
  {
   "cell_type": "code",
   "execution_count": 11,
   "metadata": {},
   "outputs": [],
   "source": [
    "from sympy import Symbol, Derivative"
   ]
  },
  {
   "cell_type": "code",
   "execution_count": 13,
   "metadata": {},
   "outputs": [
    {
     "data": {
      "text/plain": [
       "2*x"
      ]
     },
     "execution_count": 13,
     "metadata": {},
     "output_type": "execute_result"
    }
   ],
   "source": [
    "x= Symbol('x')\n",
    "y=Symbol('y')\n",
    "z=Symbol('z')\n",
    "\n",
    "function= (x**2) + (4*y) + z\n",
    "\n",
    "partialderiv= Derivative(function, x)\n",
    "partialderiv.doit()"
   ]
  },
  {
   "cell_type": "code",
   "execution_count": null,
   "metadata": {},
   "outputs": [],
   "source": []
  }
 ],
 "metadata": {
  "kernelspec": {
   "display_name": "Python 2",
   "language": "python",
   "name": "python2"
  },
  "language_info": {
   "codemirror_mode": {
    "name": "ipython",
    "version": 2
   },
   "file_extension": ".py",
   "mimetype": "text/x-python",
   "name": "python",
   "nbconvert_exporter": "python",
   "pygments_lexer": "ipython2",
   "version": "2.7.12"
  }
 },
 "nbformat": 4,
 "nbformat_minor": 2
}
